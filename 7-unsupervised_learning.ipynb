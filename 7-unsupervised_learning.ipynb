{
 "metadata": {
  "language_info": {
   "codemirror_mode": {
    "name": "ipython",
    "version": 3
   },
   "file_extension": ".py",
   "mimetype": "text/x-python",
   "name": "python",
   "nbconvert_exporter": "python",
   "pygments_lexer": "ipython3",
   "version": "3.8.6-final"
  },
  "orig_nbformat": 2,
  "kernelspec": {
   "name": "python3",
   "display_name": "Python 3"
  }
 },
 "nbformat": 4,
 "nbformat_minor": 2,
 "cells": [
  {
   "source": [
    "## Module 1 \n",
    "\n",
    "### 1.1 Linear Regression\n",
    "simple linear formula: y = $\\alpha$ + $\\beta x$\n",
    "Where: $\\alpha$ is a constant and $\\beta x$ defines the slope \n",
    "\n",
    "Error function: e = yi - yi"
   ],
   "cell_type": "markdown",
   "metadata": {}
  },
  {
   "source": [
    "why square the errors ?\n",
    "- Errors can be positive or negative(above the line)\n",
    "- negative values could decrease the error\n",
    "- Penalize large error"
   ],
   "cell_type": "markdown",
   "metadata": {}
  },
  {
   "source": [
    "Finding the co-eficient\n",
    "```\n",
    "reg = LinearRegression()\n",
    "reg.fit(X, y)\n",
    "\n",
    "intercept = reg.intercept_[0]\n",
    "coef = reg.coef_[0][0]\n",
    "```\n",
    "\n",
    "Estimate the relevance of coefficients\n",
    "- p-value: quality statistical significant\n",
    "- Tells us if we can reject the null hypothesis or not\n",
    "\n",
    "null hypothesis\n",
    "```\n",
    "exog = sm.add_constant(X)\n",
    "est = sm.OLS(y, exog).fit()\n",
    "\n",
    "print(est.summary())\n",
    "```\n",
    "\n"
   ],
   "cell_type": "markdown",
   "metadata": {}
  },
  {
   "source": [
    "Acuracy of a linear model\n",
    "- RSE\n",
    "- R^2\n",
    "\n",
    "```\n",
    "exog = sm.add_constant(X)\n",
    "est = sm.OLS(y, exog).fit()\n",
    "\n",
    "print(est.summary())\n",
    "```"
   ],
   "cell_type": "markdown",
   "metadata": {}
  },
  {
   "source": [
    "multiple linear regression\n",
    "formula: y = $\\alpha$ + $\\beta x1$ + $\\beta x2$ + $\\beta x3$ + ... + $\\beta xn$\n",
    "\n",
    "```\n",
    "reg = LinearRegression()\n",
    "reg.fit()(X, y)\n",
    "\n",
    "beta_0 = reg.intercept_[0]\n",
    "\n",
    "beta_1 = reg.intercept_[0][0]\n",
    "beta_2 = reg.intercept_[0][1]\n",
    "beta_3 = reg.intercept_[0][2]\n",
    "\n",
    "F statiscs, where p is the number of predictors and n is the number of data points\n",
    "exog = sm.add_constant(X)\n",
    "est = sm.OLS(y, exog).fit()\n",
    "\n",
    "print(est.summary())"
   ],
   "cell_type": "markdown",
   "metadata": {}
  },
  {
   "source": [
    "### Application of Linear Regression"
   ],
   "cell_type": "markdown",
   "metadata": {}
  },
  {
   "cell_type": "code",
   "execution_count": 3,
   "metadata": {},
   "outputs": [
    {
     "output_type": "error",
     "ename": "ModuleNotFoundError",
     "evalue": "No module named 'pandas'",
     "traceback": [
      "\u001b[0;31m---------------------------------------------------------------------------\u001b[0m",
      "\u001b[0;31mModuleNotFoundError\u001b[0m                       Traceback (most recent call last)",
      "\u001b[0;32m<ipython-input-3-f11ff61156af>\u001b[0m in \u001b[0;36m<module>\u001b[0;34m\u001b[0m\n\u001b[0;32m----> 1\u001b[0;31m \u001b[0;32mimport\u001b[0m \u001b[0mpandas\u001b[0m \u001b[0;32mas\u001b[0m \u001b[0mpd\u001b[0m\u001b[0;34m\u001b[0m\u001b[0;34m\u001b[0m\u001b[0m\n\u001b[0m\u001b[1;32m      2\u001b[0m \u001b[0;32mimport\u001b[0m \u001b[0mnumpy\u001b[0m \u001b[0;32mas\u001b[0m \u001b[0mnp\u001b[0m\u001b[0;34m\u001b[0m\u001b[0;34m\u001b[0m\u001b[0m\n\u001b[1;32m      3\u001b[0m \u001b[0;34m\u001b[0m\u001b[0m\n\u001b[1;32m      4\u001b[0m \u001b[0;32mimport\u001b[0m \u001b[0mmatplotlib\u001b[0m\u001b[0;34m.\u001b[0m\u001b[0mpyplot\u001b[0m \u001b[0;32mas\u001b[0m \u001b[0mplt\u001b[0m\u001b[0;34m\u001b[0m\u001b[0;34m\u001b[0m\u001b[0m\n\u001b[1;32m      5\u001b[0m \u001b[0;34m\u001b[0m\u001b[0m\n",
      "\u001b[0;31mModuleNotFoundError\u001b[0m: No module named 'pandas'"
     ]
    }
   ],
   "source": [
    "import pandas as pd \n",
    "import numpy as np \n",
    "\n",
    "import matplotlib.pyplot as plt \n",
    "\n",
    "from sklearn.linear_model import LinearRegression\n",
    "import statsmodels.api as sm\n",
    "\n",
    "%matplotlib inline\n"
   ]
  }
 ]
}